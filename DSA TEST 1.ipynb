{
 "cells": [
  {
   "cell_type": "markdown",
   "id": "c41fcdff-d975-4cd4-9cc0-0a5e04a752c6",
   "metadata": {},
   "source": [
    "# Q1"
   ]
  },
  {
   "cell_type": "markdown",
   "id": "3d57bd26-487e-4d13-89b7-8005ddb42678",
   "metadata": {},
   "source": [
    "## Move Zeoes"
   ]
  },
  {
   "cell_type": "code",
   "execution_count": 4,
   "id": "11a9d973-749e-45cc-99d9-3401ff112be6",
   "metadata": {},
   "outputs": [
    {
     "name": "stdout",
     "output_type": "stream",
     "text": [
      "[1, 3, 12, 0, 0]\n"
     ]
    }
   ],
   "source": [
    "def moveZeroes(nums):\n",
    "    result=[]\n",
    "    left=0\n",
    "    n=len(nums)\n",
    "    while left<n:\n",
    "        if nums[left]!=0:\n",
    "            result.append(nums[left])\n",
    "        left+=1\n",
    "        m=len(result)        \n",
    "    while m<n:\n",
    "        result.append(0)\n",
    "        m+=1\n",
    "    nums[:]=result\n",
    "    return nums\n",
    "nums=[0,1,0,3,12]\n",
    "print(moveZeroes(nums))"
   ]
  },
  {
   "cell_type": "markdown",
   "id": "8e087f5f-682a-4fb8-87d4-f991afa95c59",
   "metadata": {},
   "source": [
    "# Q2"
   ]
  },
  {
   "cell_type": "markdown",
   "id": "90a7085f-e7be-437d-ab9b-d403c15a89c8",
   "metadata": {},
   "source": [
    "## First Unique Character in a String"
   ]
  },
  {
   "cell_type": "code",
   "execution_count": 18,
   "id": "503e0d5b-53ee-429e-83a5-1a5c93cc7384",
   "metadata": {},
   "outputs": [
    {
     "name": "stdout",
     "output_type": "stream",
     "text": [
      "l\n"
     ]
    }
   ],
   "source": [
    "def FirstUniqueChar(s):\n",
    "    for i in s:\n",
    "        if s.count(i)==1:\n",
    "            return i\n",
    "            \n",
    "s = \"leetcode\"\n",
    "print(FirstUniqueChar(s))\n",
    "        \n",
    "        "
   ]
  },
  {
   "cell_type": "code",
   "execution_count": null,
   "id": "4efbd786-75bc-4435-9b16-09ead0b7aa39",
   "metadata": {},
   "outputs": [],
   "source": []
  }
 ],
 "metadata": {
  "kernelspec": {
   "display_name": "Python 3 (ipykernel)",
   "language": "python",
   "name": "python3"
  },
  "language_info": {
   "codemirror_mode": {
    "name": "ipython",
    "version": 3
   },
   "file_extension": ".py",
   "mimetype": "text/x-python",
   "name": "python",
   "nbconvert_exporter": "python",
   "pygments_lexer": "ipython3",
   "version": "3.10.8"
  }
 },
 "nbformat": 4,
 "nbformat_minor": 5
}
